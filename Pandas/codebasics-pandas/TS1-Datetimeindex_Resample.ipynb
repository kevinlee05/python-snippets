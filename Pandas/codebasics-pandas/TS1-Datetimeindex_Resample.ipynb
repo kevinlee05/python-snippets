{
 "cells": [
  {
   "cell_type": "code",
   "execution_count": 2,
   "metadata": {},
   "outputs": [
    {
     "data": {
      "text/html": [
       "<div>\n",
       "<style scoped>\n",
       "    .dataframe tbody tr th:only-of-type {\n",
       "        vertical-align: middle;\n",
       "    }\n",
       "\n",
       "    .dataframe tbody tr th {\n",
       "        vertical-align: top;\n",
       "    }\n",
       "\n",
       "    .dataframe thead th {\n",
       "        text-align: right;\n",
       "    }\n",
       "</style>\n",
       "<table border=\"1\" class=\"dataframe\">\n",
       "  <thead>\n",
       "    <tr style=\"text-align: right;\">\n",
       "      <th></th>\n",
       "      <th>Date</th>\n",
       "      <th>Open</th>\n",
       "      <th>High</th>\n",
       "      <th>Low</th>\n",
       "      <th>Close</th>\n",
       "      <th>Volume</th>\n",
       "    </tr>\n",
       "  </thead>\n",
       "  <tbody>\n",
       "    <tr>\n",
       "      <th>0</th>\n",
       "      <td>7-Jul-17</td>\n",
       "      <td>142.90</td>\n",
       "      <td>144.75</td>\n",
       "      <td>142.90</td>\n",
       "      <td>144.18</td>\n",
       "      <td>19201712</td>\n",
       "    </tr>\n",
       "    <tr>\n",
       "      <th>1</th>\n",
       "      <td>6-Jul-17</td>\n",
       "      <td>143.02</td>\n",
       "      <td>143.50</td>\n",
       "      <td>142.41</td>\n",
       "      <td>142.73</td>\n",
       "      <td>24128782</td>\n",
       "    </tr>\n",
       "    <tr>\n",
       "      <th>2</th>\n",
       "      <td>5-Jul-17</td>\n",
       "      <td>143.69</td>\n",
       "      <td>144.79</td>\n",
       "      <td>142.72</td>\n",
       "      <td>144.09</td>\n",
       "      <td>21569557</td>\n",
       "    </tr>\n",
       "    <tr>\n",
       "      <th>3</th>\n",
       "      <td>3-Jul-17</td>\n",
       "      <td>144.88</td>\n",
       "      <td>145.30</td>\n",
       "      <td>143.10</td>\n",
       "      <td>143.50</td>\n",
       "      <td>14277848</td>\n",
       "    </tr>\n",
       "    <tr>\n",
       "      <th>4</th>\n",
       "      <td>30-Jun-17</td>\n",
       "      <td>144.45</td>\n",
       "      <td>144.96</td>\n",
       "      <td>143.78</td>\n",
       "      <td>144.02</td>\n",
       "      <td>23024107</td>\n",
       "    </tr>\n",
       "    <tr>\n",
       "      <th>5</th>\n",
       "      <td>29-Jun-17</td>\n",
       "      <td>144.71</td>\n",
       "      <td>145.13</td>\n",
       "      <td>142.28</td>\n",
       "      <td>143.68</td>\n",
       "      <td>31499368</td>\n",
       "    </tr>\n",
       "    <tr>\n",
       "      <th>6</th>\n",
       "      <td>28-Jun-17</td>\n",
       "      <td>144.49</td>\n",
       "      <td>146.11</td>\n",
       "      <td>143.16</td>\n",
       "      <td>145.83</td>\n",
       "      <td>22082432</td>\n",
       "    </tr>\n",
       "    <tr>\n",
       "      <th>7</th>\n",
       "      <td>27-Jun-17</td>\n",
       "      <td>145.01</td>\n",
       "      <td>146.16</td>\n",
       "      <td>143.62</td>\n",
       "      <td>143.73</td>\n",
       "      <td>24761891</td>\n",
       "    </tr>\n",
       "    <tr>\n",
       "      <th>8</th>\n",
       "      <td>26-Jun-17</td>\n",
       "      <td>147.17</td>\n",
       "      <td>148.28</td>\n",
       "      <td>145.38</td>\n",
       "      <td>145.82</td>\n",
       "      <td>25692361</td>\n",
       "    </tr>\n",
       "    <tr>\n",
       "      <th>9</th>\n",
       "      <td>23-Jun-17</td>\n",
       "      <td>145.13</td>\n",
       "      <td>147.16</td>\n",
       "      <td>145.11</td>\n",
       "      <td>146.28</td>\n",
       "      <td>35439389</td>\n",
       "    </tr>\n",
       "  </tbody>\n",
       "</table>\n",
       "</div>"
      ],
      "text/plain": [
       "        Date    Open    High     Low   Close    Volume\n",
       "0   7-Jul-17  142.90  144.75  142.90  144.18  19201712\n",
       "1   6-Jul-17  143.02  143.50  142.41  142.73  24128782\n",
       "2   5-Jul-17  143.69  144.79  142.72  144.09  21569557\n",
       "3   3-Jul-17  144.88  145.30  143.10  143.50  14277848\n",
       "4  30-Jun-17  144.45  144.96  143.78  144.02  23024107\n",
       "5  29-Jun-17  144.71  145.13  142.28  143.68  31499368\n",
       "6  28-Jun-17  144.49  146.11  143.16  145.83  22082432\n",
       "7  27-Jun-17  145.01  146.16  143.62  143.73  24761891\n",
       "8  26-Jun-17  147.17  148.28  145.38  145.82  25692361\n",
       "9  23-Jun-17  145.13  147.16  145.11  146.28  35439389"
      ]
     },
     "execution_count": 2,
     "metadata": {},
     "output_type": "execute_result"
    }
   ],
   "source": [
    "import pandas as pd\n",
    "df = pd.read_csv(\"aapl.csv\")\n",
    "df.head(10)"
   ]
  },
  {
   "cell_type": "code",
   "execution_count": 4,
   "metadata": {},
   "outputs": [
    {
     "data": {
      "text/plain": [
       "str"
      ]
     },
     "execution_count": 4,
     "metadata": {},
     "output_type": "execute_result"
    }
   ],
   "source": [
    "type(df.Date[0])"
   ]
  },
  {
   "cell_type": "code",
   "execution_count": 8,
   "metadata": {},
   "outputs": [
    {
     "data": {
      "text/plain": [
       "pandas._libs.tslib.Timestamp"
      ]
     },
     "execution_count": 8,
     "metadata": {},
     "output_type": "execute_result"
    }
   ],
   "source": [
    "df1 = pd.read_csv(\"aapl.csv\", parse_dates=[\"Date\"],) #parse dates as timestamp datatype\n",
    "type(df1.Date[0])"
   ]
  },
  {
   "cell_type": "code",
   "execution_count": 11,
   "metadata": {},
   "outputs": [
    {
     "data": {
      "text/html": [
       "<div>\n",
       "<style scoped>\n",
       "    .dataframe tbody tr th:only-of-type {\n",
       "        vertical-align: middle;\n",
       "    }\n",
       "\n",
       "    .dataframe tbody tr th {\n",
       "        vertical-align: top;\n",
       "    }\n",
       "\n",
       "    .dataframe thead th {\n",
       "        text-align: right;\n",
       "    }\n",
       "</style>\n",
       "<table border=\"1\" class=\"dataframe\">\n",
       "  <thead>\n",
       "    <tr style=\"text-align: right;\">\n",
       "      <th></th>\n",
       "      <th>Open</th>\n",
       "      <th>High</th>\n",
       "      <th>Low</th>\n",
       "      <th>Close</th>\n",
       "      <th>Volume</th>\n",
       "    </tr>\n",
       "    <tr>\n",
       "      <th>Date</th>\n",
       "      <th></th>\n",
       "      <th></th>\n",
       "      <th></th>\n",
       "      <th></th>\n",
       "      <th></th>\n",
       "    </tr>\n",
       "  </thead>\n",
       "  <tbody>\n",
       "    <tr>\n",
       "      <th>2017-07-07</th>\n",
       "      <td>142.90</td>\n",
       "      <td>144.75</td>\n",
       "      <td>142.90</td>\n",
       "      <td>144.18</td>\n",
       "      <td>19201712</td>\n",
       "    </tr>\n",
       "    <tr>\n",
       "      <th>2017-07-06</th>\n",
       "      <td>143.02</td>\n",
       "      <td>143.50</td>\n",
       "      <td>142.41</td>\n",
       "      <td>142.73</td>\n",
       "      <td>24128782</td>\n",
       "    </tr>\n",
       "    <tr>\n",
       "      <th>2017-07-05</th>\n",
       "      <td>143.69</td>\n",
       "      <td>144.79</td>\n",
       "      <td>142.72</td>\n",
       "      <td>144.09</td>\n",
       "      <td>21569557</td>\n",
       "    </tr>\n",
       "    <tr>\n",
       "      <th>2017-07-03</th>\n",
       "      <td>144.88</td>\n",
       "      <td>145.30</td>\n",
       "      <td>143.10</td>\n",
       "      <td>143.50</td>\n",
       "      <td>14277848</td>\n",
       "    </tr>\n",
       "    <tr>\n",
       "      <th>2017-06-30</th>\n",
       "      <td>144.45</td>\n",
       "      <td>144.96</td>\n",
       "      <td>143.78</td>\n",
       "      <td>144.02</td>\n",
       "      <td>23024107</td>\n",
       "    </tr>\n",
       "  </tbody>\n",
       "</table>\n",
       "</div>"
      ],
      "text/plain": [
       "              Open    High     Low   Close    Volume\n",
       "Date                                                \n",
       "2017-07-07  142.90  144.75  142.90  144.18  19201712\n",
       "2017-07-06  143.02  143.50  142.41  142.73  24128782\n",
       "2017-07-05  143.69  144.79  142.72  144.09  21569557\n",
       "2017-07-03  144.88  145.30  143.10  143.50  14277848\n",
       "2017-06-30  144.45  144.96  143.78  144.02  23024107"
      ]
     },
     "execution_count": 11,
     "metadata": {},
     "output_type": "execute_result"
    }
   ],
   "source": [
    "df2 = pd.read_csv(\"aapl.csv\", parse_dates=[\"Date\"], index_col=\"Date\") #parse dates as timestamp datatype, index by date\n",
    "df2.head(5)"
   ]
  },
  {
   "cell_type": "code",
   "execution_count": 12,
   "metadata": {},
   "outputs": [
    {
     "data": {
      "text/plain": [
       "DatetimeIndex(['2017-07-07', '2017-07-06', '2017-07-05', '2017-07-03',\n",
       "               '2017-06-30', '2017-06-29', '2017-06-28', '2017-06-27',\n",
       "               '2017-06-26', '2017-06-23',\n",
       "               ...\n",
       "               '2016-07-22', '2016-07-21', '2016-07-20', '2016-07-19',\n",
       "               '2016-07-18', '2016-07-15', '2016-07-14', '2016-07-13',\n",
       "               '2016-07-12', '2016-07-11'],\n",
       "              dtype='datetime64[ns]', name='Date', length=251, freq=None)"
      ]
     },
     "execution_count": 12,
     "metadata": {},
     "output_type": "execute_result"
    }
   ],
   "source": [
    "df2.index"
   ]
  },
  {
   "cell_type": "code",
   "execution_count": 20,
   "metadata": {},
   "outputs": [
    {
     "data": {
      "text/plain": [
       "Date\n",
       "2017-01-31    121.35\n",
       "2017-01-30    121.63\n",
       "2017-01-27    121.95\n",
       "2017-01-26    121.94\n",
       "2017-01-25    121.88\n",
       "2017-01-24    119.97\n",
       "2017-01-23    120.08\n",
       "2017-01-20    120.00\n",
       "2017-01-19    119.78\n",
       "2017-01-18    119.99\n",
       "Name: Close, dtype: float64"
      ]
     },
     "execution_count": 20,
     "metadata": {},
     "output_type": "execute_result"
    }
   ],
   "source": [
    "s1 = df2[\"2017-01\"][:10].Close #retrieve Jan 2017 close values only\n",
    "s1"
   ]
  },
  {
   "cell_type": "code",
   "execution_count": 21,
   "metadata": {},
   "outputs": [
    {
     "data": {
      "text/plain": [
       "120.85700000000001"
      ]
     },
     "execution_count": 21,
     "metadata": {},
     "output_type": "execute_result"
    }
   ],
   "source": [
    "s1.mean()"
   ]
  },
  {
   "cell_type": "code",
   "execution_count": 25,
   "metadata": {},
   "outputs": [
    {
     "data": {
      "text/html": [
       "<div>\n",
       "<style scoped>\n",
       "    .dataframe tbody tr th:only-of-type {\n",
       "        vertical-align: middle;\n",
       "    }\n",
       "\n",
       "    .dataframe tbody tr th {\n",
       "        vertical-align: top;\n",
       "    }\n",
       "\n",
       "    .dataframe thead th {\n",
       "        text-align: right;\n",
       "    }\n",
       "</style>\n",
       "<table border=\"1\" class=\"dataframe\">\n",
       "  <thead>\n",
       "    <tr style=\"text-align: right;\">\n",
       "      <th></th>\n",
       "      <th>Open</th>\n",
       "      <th>High</th>\n",
       "      <th>Low</th>\n",
       "      <th>Close</th>\n",
       "      <th>Volume</th>\n",
       "    </tr>\n",
       "    <tr>\n",
       "      <th>Date</th>\n",
       "      <th></th>\n",
       "      <th></th>\n",
       "      <th></th>\n",
       "      <th></th>\n",
       "      <th></th>\n",
       "    </tr>\n",
       "  </thead>\n",
       "  <tbody>\n",
       "    <tr>\n",
       "      <th>2017-01-20</th>\n",
       "      <td>120.45</td>\n",
       "      <td>120.45</td>\n",
       "      <td>119.73</td>\n",
       "      <td>120.00</td>\n",
       "      <td>32597892</td>\n",
       "    </tr>\n",
       "    <tr>\n",
       "      <th>2017-01-19</th>\n",
       "      <td>119.40</td>\n",
       "      <td>120.09</td>\n",
       "      <td>119.37</td>\n",
       "      <td>119.78</td>\n",
       "      <td>25597291</td>\n",
       "    </tr>\n",
       "    <tr>\n",
       "      <th>2017-01-18</th>\n",
       "      <td>120.00</td>\n",
       "      <td>120.50</td>\n",
       "      <td>119.71</td>\n",
       "      <td>119.99</td>\n",
       "      <td>23712961</td>\n",
       "    </tr>\n",
       "    <tr>\n",
       "      <th>2017-01-17</th>\n",
       "      <td>118.34</td>\n",
       "      <td>120.24</td>\n",
       "      <td>118.22</td>\n",
       "      <td>120.00</td>\n",
       "      <td>34439843</td>\n",
       "    </tr>\n",
       "    <tr>\n",
       "      <th>2017-01-13</th>\n",
       "      <td>119.11</td>\n",
       "      <td>119.62</td>\n",
       "      <td>118.81</td>\n",
       "      <td>119.04</td>\n",
       "      <td>26111948</td>\n",
       "    </tr>\n",
       "    <tr>\n",
       "      <th>2017-01-12</th>\n",
       "      <td>118.90</td>\n",
       "      <td>119.30</td>\n",
       "      <td>118.21</td>\n",
       "      <td>119.25</td>\n",
       "      <td>27086220</td>\n",
       "    </tr>\n",
       "    <tr>\n",
       "      <th>2017-01-11</th>\n",
       "      <td>118.74</td>\n",
       "      <td>119.93</td>\n",
       "      <td>118.60</td>\n",
       "      <td>119.75</td>\n",
       "      <td>27588593</td>\n",
       "    </tr>\n",
       "    <tr>\n",
       "      <th>2017-01-10</th>\n",
       "      <td>118.77</td>\n",
       "      <td>119.38</td>\n",
       "      <td>118.30</td>\n",
       "      <td>119.11</td>\n",
       "      <td>24462051</td>\n",
       "    </tr>\n",
       "  </tbody>\n",
       "</table>\n",
       "</div>"
      ],
      "text/plain": [
       "              Open    High     Low   Close    Volume\n",
       "Date                                                \n",
       "2017-01-20  120.45  120.45  119.73  120.00  32597892\n",
       "2017-01-19  119.40  120.09  119.37  119.78  25597291\n",
       "2017-01-18  120.00  120.50  119.71  119.99  23712961\n",
       "2017-01-17  118.34  120.24  118.22  120.00  34439843\n",
       "2017-01-13  119.11  119.62  118.81  119.04  26111948\n",
       "2017-01-12  118.90  119.30  118.21  119.25  27086220\n",
       "2017-01-11  118.74  119.93  118.60  119.75  27588593\n",
       "2017-01-10  118.77  119.38  118.30  119.11  24462051"
      ]
     },
     "execution_count": 25,
     "metadata": {},
     "output_type": "execute_result"
    }
   ],
   "source": [
    "df2[\"2017-01-20\":\"2017-01-10\"]"
   ]
  },
  {
   "cell_type": "code",
   "execution_count": 27,
   "metadata": {},
   "outputs": [
    {
     "data": {
      "text/plain": [
       "Date\n",
       "2016-07-31     99.473333\n",
       "2016-08-31    107.665217\n",
       "2016-09-30    110.857143\n",
       "2016-10-31    115.707143\n",
       "2016-11-30    110.154286\n",
       "2016-12-31    114.335714\n",
       "2017-01-31    119.570000\n",
       "2017-02-28    133.713684\n",
       "2017-03-31    140.617826\n",
       "2017-04-30    142.886842\n",
       "2017-05-31    152.227727\n",
       "2017-06-30    147.831364\n",
       "2017-07-31    143.625000\n",
       "Freq: M, Name: Close, dtype: float64"
      ]
     },
     "execution_count": 27,
     "metadata": {},
     "output_type": "execute_result"
    }
   ],
   "source": [
    "df2.Close.resample('M').mean() #resample close by monthly mean"
   ]
  },
  {
   "cell_type": "code",
   "execution_count": 36,
   "metadata": {},
   "outputs": [
    {
     "data": {
      "text/plain": [
       "<matplotlib.axes._subplots.AxesSubplot at 0x7fcdfceb4320>"
      ]
     },
     "execution_count": 36,
     "metadata": {},
     "output_type": "execute_result"
    },
    {
     "data": {
      "image/png": "[encoded data removed]",
      "text/plain": [
       "<matplotlib.figure.Figure at 0x7fcdfce4d908>"
      ]
     },
     "metadata": {},
     "output_type": "display_data"
    }
   ],
   "source": [
    "%matplotlib inline\n",
    "df2.Close.resample('W').mean().plot(kind=\"line\") #plot the weekly mean closing price"
   ]
  },
  {
   "cell_type": "code",
   "execution_count": null,
   "metadata": {},
   "outputs": [],
   "source": []
  },
  {
   "cell_type": "code",
   "execution_count": null,
   "metadata": {},
   "outputs": [],
   "source": []
  }
 ],
 "metadata": {
  "kernelspec": {
   "display_name": "Python 3",
   "language": "python",
   "name": "python3"
  },
  "language_info": {
   "codemirror_mode": {
    "name": "ipython",
    "version": 3
   },
   "file_extension": ".py",
   "mimetype": "text/x-python",
   "name": "python",
   "nbconvert_exporter": "python",
   "pygments_lexer": "ipython3",
   "version": "3.6.4"
  }
 },
 "nbformat": 4,
 "nbformat_minor": 2
}
