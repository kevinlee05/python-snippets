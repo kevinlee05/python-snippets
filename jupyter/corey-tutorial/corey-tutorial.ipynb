{
 "cells": [
  {
   "cell_type": "code",
   "execution_count": 15,
   "metadata": {},
   "outputs": [
    {
     "name": "stdout",
     "output_type": "stream",
     "text": [
      "hello world!\n",
      "run cell and select below only inserts if there is no cell below. shortcut: shift+enter\n",
      "run cell and insert below inserts a cell below always. shortcut: option+enter\n"
     ]
    }
   ],
   "source": [
    "print(\"hello world!\")\n",
    "print(\"run cell and select below only inserts if there is no cell below. shortcut: shift+enter\")\n",
    "print(\"run cell and insert below inserts a cell below always. shortcut: option+enter\")"
   ]
  },
  {
   "cell_type": "markdown",
   "metadata": {},
   "source": [
    "# Sample Headline\n",
    "*Note this text will be italicized*\n",
    "\n",
    "## Another headline (H2)\n",
    "This is a normal paragraph.\n",
    "\n",
    "Basic formatting of *italics* and **bold** is supported. This *can be **nested** like* so.\n",
    "\n",
    "### What this notebook shows\n",
    "\n",
    "1. How to get started with notebooks\n",
    "2. how to execute code\n",
    "3. how to add markdown\n",
    "4. and... other stuff"
   ]
  },
  {
   "cell_type": "code",
   "execution_count": 16,
   "metadata": {},
   "outputs": [],
   "source": [
    "name = 'John'"
   ]
  },
  {
   "cell_type": "code",
   "execution_count": 18,
   "metadata": {},
   "outputs": [
    {
     "data": {
      "text/plain": [
       "'John'"
      ]
     },
     "execution_count": 18,
     "metadata": {},
     "output_type": "execute_result"
    }
   ],
   "source": [
    "name"
   ]
  },
  {
   "cell_type": "code",
   "execution_count": 20,
   "metadata": {},
   "outputs": [
    {
     "name": "stdout",
     "output_type": "stream",
     "text": [
      "\u001b[31mDEPRECATION: The default format will switch to columns in the future. You can use --format=(legacy|columns) (or define a format=(legacy|columns) in your pip.conf under the [list] section) to disable this warning.\u001b[0m\n",
      "alabaster (0.7.10)\n",
      "anaconda-client (1.6.9)\n",
      "anaconda-navigator (1.7.0)\n",
      "anaconda-project (0.8.2)\n",
      "appnope (0.1.0)\n",
      "appscript (1.0.1)\n",
      "asn1crypto (0.24.0)\n",
      "astroid (1.6.1)\n",
      "astropy (2.0.3)\n",
      "attrs (17.4.0)\n",
      "Automat (0.6.0)\n",
      "Babel (2.5.3)\n",
      "backports.shutil-get-terminal-size (1.0.0)\n",
      "beautifulsoup4 (4.6.0)\n",
      "bitarray (0.8.1)\n",
      "bkcharts (0.2)\n",
      "blaze (0.11.3)\n",
      "bleach (2.1.2)\n",
      "bokeh (0.12.13)\n",
      "boto (2.48.0)\n",
      "Bottleneck (1.2.1)\n",
      "certifi (2018.1.18)\n",
      "cffi (1.11.4)\n",
      "chardet (3.0.4)\n",
      "click (6.7)\n",
      "cloudpickle (0.5.2)\n",
      "clyent (1.2.2)\n",
      "colorama (0.3.9)\n",
      "conda (4.4.10)\n",
      "conda-build (3.4.1)\n",
      "conda-verify (2.0.0)\n",
      "constantly (15.1.0)\n",
      "contextlib2 (0.5.5)\n",
      "cryptography (2.1.4)\n",
      "cycler (0.10.0)\n",
      "Cython (0.27.3)\n",
      "cytoolz (0.9.0)\n",
      "dask (0.16.1)\n",
      "datashape (0.5.4)\n",
      "decorator (4.2.1)\n",
      "distributed (1.20.2)\n",
      "docutils (0.14)\n",
      "entrypoints (0.2.3)\n",
      "et-xmlfile (1.0.1)\n",
      "fastcache (1.0.2)\n",
      "filelock (2.0.13)\n",
      "Flask (0.12.2)\n",
      "Flask-Cors (3.0.3)\n",
      "gevent (1.2.2)\n",
      "glob2 (0.6)\n",
      "gmpy2 (2.0.8)\n",
      "greenlet (0.4.12)\n",
      "h5py (2.7.1)\n",
      "heapdict (1.0.0)\n",
      "html5lib (1.0.1)\n",
      "hyperlink (18.0.0)\n",
      "idna (2.6)\n",
      "imageio (2.2.0)\n",
      "imagesize (0.7.1)\n",
      "incremental (17.5.0)\n",
      "ipykernel (4.8.0)\n",
      "ipython (6.2.1)\n",
      "ipython-genutils (0.2.0)\n",
      "ipywidgets (7.1.1)\n",
      "isort (4.2.15)\n",
      "itsdangerous (0.24)\n",
      "jdcal (1.3)\n",
      "jedi (0.11.1)\n",
      "Jinja2 (2.10)\n",
      "jsonschema (2.6.0)\n",
      "jupyter (1.0.0)\n",
      "jupyter-client (5.2.2)\n",
      "jupyter-console (5.2.0)\n",
      "jupyter-core (4.4.0)\n",
      "jupyterlab (0.31.5)\n",
      "jupyterlab-launcher (0.10.2)\n",
      "lazy-object-proxy (1.3.1)\n",
      "llvmlite (0.21.0)\n",
      "locket (0.2.0)\n",
      "lxml (4.1.1)\n",
      "MarkupSafe (1.0)\n",
      "matplotlib (2.1.2)\n",
      "mccabe (0.6.1)\n",
      "mistune (0.8.3)\n",
      "mpmath (1.0.0)\n",
      "msgpack-python (0.5.1)\n",
      "multipledispatch (0.4.9)\n",
      "navigator-updater (0.1.0)\n",
      "nbconvert (5.3.1)\n",
      "nbformat (4.4.0)\n",
      "networkx (2.1)\n",
      "nltk (3.2.5)\n",
      "nose (1.3.7)\n",
      "notebook (5.4.0)\n",
      "numba (0.36.2)\n",
      "numexpr (2.6.4)\n",
      "numpy (1.14.0)\n",
      "numpydoc (0.7.0)\n",
      "odo (0.5.1)\n",
      "olefile (0.45.1)\n",
      "openpyxl (2.4.10)\n",
      "packaging (16.8)\n",
      "pandas (0.22.0)\n",
      "pandocfilters (1.4.2)\n",
      "parso (0.1.1)\n",
      "partd (0.3.8)\n",
      "path.py (10.5)\n",
      "pathlib2 (2.3.0)\n",
      "patsy (0.5.0)\n",
      "pep8 (1.7.1)\n",
      "pexpect (4.3.1)\n",
      "pickleshare (0.7.4)\n",
      "Pillow (5.0.0)\n",
      "pip (9.0.1)\n",
      "pkginfo (1.4.1)\n",
      "pluggy (0.6.0)\n",
      "ply (3.10)\n",
      "prompt-toolkit (1.0.15)\n",
      "psutil (5.4.3)\n",
      "ptyprocess (0.5.2)\n",
      "py (1.5.2)\n",
      "pyasn1 (0.4.2)\n",
      "pyasn1-modules (0.2.1)\n",
      "pycodestyle (2.3.1)\n",
      "pycosat (0.6.3)\n",
      "pycparser (2.18)\n",
      "pycrypto (2.6.1)\n",
      "pycurl (7.43.0.1)\n",
      "pyflakes (1.6.0)\n",
      "Pygments (2.2.0)\n",
      "pylint (1.8.2)\n",
      "pyodbc (4.0.22)\n",
      "pyOpenSSL (17.5.0)\n",
      "pyparsing (2.2.0)\n",
      "PySocks (1.6.7)\n",
      "pytest (3.3.2)\n",
      "python-dateutil (2.6.1)\n",
      "pytz (2017.3)\n",
      "PyWavelets (0.5.2)\n",
      "PyYAML (3.12)\n",
      "pyzmq (16.0.3)\n",
      "QtAwesome (0.4.4)\n",
      "qtconsole (4.3.1)\n",
      "QtPy (1.3.1)\n",
      "requests (2.18.4)\n",
      "rope (0.10.7)\n",
      "ruamel-yaml (0.15.35)\n",
      "scikit-image (0.13.1)\n",
      "scikit-learn (0.19.1)\n",
      "scipy (1.0.0)\n",
      "seaborn (0.8.1)\n",
      "Send2Trash (1.4.2)\n",
      "service-identity (17.0.0)\n",
      "setuptools (38.4.0)\n",
      "simplegeneric (0.8.1)\n",
      "singledispatch (3.4.0.3)\n",
      "six (1.11.0)\n",
      "snowballstemmer (1.2.1)\n",
      "sortedcollections (0.5.3)\n",
      "sortedcontainers (1.5.9)\n",
      "Sphinx (1.6.6)\n",
      "sphinxcontrib-websupport (1.0.1)\n",
      "spyder (3.2.6)\n",
      "SQLAlchemy (1.2.1)\n",
      "statsmodels (0.8.0)\n",
      "sympy (1.1.1)\n",
      "tables (3.4.2)\n",
      "tblib (1.3.2)\n",
      "terminado (0.8.1)\n",
      "testpath (0.3.1)\n",
      "toolz (0.9.0)\n",
      "tornado (4.5.3)\n",
      "traitlets (4.3.2)\n",
      "Twisted (17.9.0)\n",
      "typing (3.6.2)\n",
      "unicodecsv (0.14.1)\n",
      "urllib3 (1.22)\n",
      "wcwidth (0.1.7)\n",
      "webencodings (0.5.1)\n",
      "Werkzeug (0.14.1)\n",
      "wheel (0.30.0)\n",
      "widgetsnbextension (3.1.0)\n",
      "wrapt (1.10.11)\n",
      "xlrd (1.1.0)\n",
      "XlsxWriter (1.0.2)\n",
      "xlwings (0.11.5)\n",
      "xlwt (1.2.0)\n",
      "zict (0.1.3)\n",
      "zope.interface (4.4.3)\n",
      "\u001b[33mYou are using pip version 9.0.1, however version 9.0.3 is available.\n",
      "You should consider upgrading via the 'pip install --upgrade pip' command.\u001b[0m\n"
     ]
    }
   ],
   "source": [
    "# commands that start with ! are bash commands\n",
    "!pip list\n"
   ]
  },
  {
   "cell_type": "code",
   "execution_count": 21,
   "metadata": {
    "scrolled": true
   },
   "outputs": [
    {
     "data": {
      "application/json": {
       "cell": {
        "!": "OSMagics",
        "HTML": "Other",
        "SVG": "Other",
        "bash": "Other",
        "capture": "ExecutionMagics",
        "debug": "ExecutionMagics",
        "file": "Other",
        "html": "DisplayMagics",
        "javascript": "DisplayMagics",
        "js": "DisplayMagics",
        "latex": "DisplayMagics",
        "markdown": "DisplayMagics",
        "perl": "Other",
        "prun": "ExecutionMagics",
        "pypy": "Other",
        "python": "Other",
        "python2": "Other",
        "python3": "Other",
        "ruby": "Other",
        "script": "ScriptMagics",
        "sh": "Other",
        "svg": "DisplayMagics",
        "sx": "OSMagics",
        "system": "OSMagics",
        "time": "ExecutionMagics",
        "timeit": "ExecutionMagics",
        "writefile": "OSMagics"
       },
       "line": {
        "alias": "OSMagics",
        "alias_magic": "BasicMagics",
        "autocall": "AutoMagics",
        "automagic": "AutoMagics",
        "autosave": "KernelMagics",
        "bookmark": "OSMagics",
        "cat": "Other",
        "cd": "OSMagics",
        "clear": "KernelMagics",
        "colors": "BasicMagics",
        "config": "ConfigMagics",
        "connect_info": "KernelMagics",
        "cp": "Other",
        "debug": "ExecutionMagics",
        "dhist": "OSMagics",
        "dirs": "OSMagics",
        "doctest_mode": "BasicMagics",
        "ed": "Other",
        "edit": "KernelMagics",
        "env": "OSMagics",
        "gui": "BasicMagics",
        "hist": "Other",
        "history": "HistoryMagics",
        "killbgscripts": "ScriptMagics",
        "ldir": "Other",
        "less": "KernelMagics",
        "lf": "Other",
        "lk": "Other",
        "ll": "Other",
        "load": "CodeMagics",
        "load_ext": "ExtensionMagics",
        "loadpy": "CodeMagics",
        "logoff": "LoggingMagics",
        "logon": "LoggingMagics",
        "logstart": "LoggingMagics",
        "logstate": "LoggingMagics",
        "logstop": "LoggingMagics",
        "ls": "Other",
        "lsmagic": "BasicMagics",
        "lx": "Other",
        "macro": "ExecutionMagics",
        "magic": "BasicMagics",
        "man": "KernelMagics",
        "matplotlib": "PylabMagics",
        "mkdir": "Other",
        "more": "KernelMagics",
        "mv": "Other",
        "notebook": "BasicMagics",
        "page": "BasicMagics",
        "pastebin": "CodeMagics",
        "pdb": "ExecutionMagics",
        "pdef": "NamespaceMagics",
        "pdoc": "NamespaceMagics",
        "pfile": "NamespaceMagics",
        "pinfo": "NamespaceMagics",
        "pinfo2": "NamespaceMagics",
        "pip": "BasicMagics",
        "popd": "OSMagics",
        "pprint": "BasicMagics",
        "precision": "BasicMagics",
        "profile": "BasicMagics",
        "prun": "ExecutionMagics",
        "psearch": "NamespaceMagics",
        "psource": "NamespaceMagics",
        "pushd": "OSMagics",
        "pwd": "OSMagics",
        "pycat": "OSMagics",
        "pylab": "PylabMagics",
        "qtconsole": "KernelMagics",
        "quickref": "BasicMagics",
        "recall": "HistoryMagics",
        "rehashx": "OSMagics",
        "reload_ext": "ExtensionMagics",
        "rep": "Other",
        "rerun": "HistoryMagics",
        "reset": "NamespaceMagics",
        "reset_selective": "NamespaceMagics",
        "rm": "Other",
        "rmdir": "Other",
        "run": "ExecutionMagics",
        "save": "CodeMagics",
        "sc": "OSMagics",
        "set_env": "OSMagics",
        "store": "StoreMagics",
        "sx": "OSMagics",
        "system": "OSMagics",
        "tb": "ExecutionMagics",
        "time": "ExecutionMagics",
        "timeit": "ExecutionMagics",
        "unalias": "OSMagics",
        "unload_ext": "ExtensionMagics",
        "who": "NamespaceMagics",
        "who_ls": "NamespaceMagics",
        "whos": "NamespaceMagics",
        "xdel": "NamespaceMagics",
        "xmode": "BasicMagics"
       }
      },
      "text/plain": [
       "Available line magics:\n",
       "%alias  %alias_magic  %autocall  %automagic  %autosave  %bookmark  %cat  %cd  %clear  %colors  %config  %connect_info  %cp  %debug  %dhist  %dirs  %doctest_mode  %ed  %edit  %env  %gui  %hist  %history  %killbgscripts  %ldir  %less  %lf  %lk  %ll  %load  %load_ext  %loadpy  %logoff  %logon  %logstart  %logstate  %logstop  %ls  %lsmagic  %lx  %macro  %magic  %man  %matplotlib  %mkdir  %more  %mv  %notebook  %page  %pastebin  %pdb  %pdef  %pdoc  %pfile  %pinfo  %pinfo2  %popd  %pprint  %precision  %profile  %prun  %psearch  %psource  %pushd  %pwd  %pycat  %pylab  %qtconsole  %quickref  %recall  %rehashx  %reload_ext  %rep  %rerun  %reset  %reset_selective  %rm  %rmdir  %run  %save  %sc  %set_env  %store  %sx  %system  %tb  %time  %timeit  %unalias  %unload_ext  %who  %who_ls  %whos  %xdel  %xmode\n",
       "\n",
       "Available cell magics:\n",
       "%%!  %%HTML  %%SVG  %%bash  %%capture  %%debug  %%file  %%html  %%javascript  %%js  %%latex  %%markdown  %%perl  %%prun  %%pypy  %%python  %%python2  %%python3  %%ruby  %%script  %%sh  %%svg  %%sx  %%system  %%time  %%timeit  %%writefile\n",
       "\n",
       "Automagic is ON, % prefix IS NOT needed for line magics."
      ]
     },
     "execution_count": 21,
     "metadata": {},
     "output_type": "execute_result"
    }
   ],
   "source": [
    "# magic commands start with % - line magics or %% cell magics\n",
    "%lsmagic"
   ]
  },
  {
   "cell_type": "code",
   "execution_count": 22,
   "metadata": {},
   "outputs": [
    {
     "data": {
      "text/plain": [
       "'/Users/kevin/Projects/python-snippets/jupyter'"
      ]
     },
     "execution_count": 22,
     "metadata": {},
     "output_type": "execute_result"
    }
   ],
   "source": [
    "%pwd"
   ]
  },
  {
   "cell_type": "code",
   "execution_count": 25,
   "metadata": {},
   "outputs": [
    {
     "name": "stdout",
     "output_type": "stream",
     "text": [
      "total 32\r\n",
      "drwxr-xr-x   4 kevin  staff    136 Mar 27 23:32 \u001b[34m.\u001b[m\u001b[m/\r\n",
      "drwxr-xr-x  16 kevin  staff    544 Mar 27 22:52 \u001b[34m..\u001b[m\u001b[m/\r\n",
      "drwxr-xr-x   3 kevin  staff    102 Mar 27 22:58 \u001b[34m.ipynb_checkpoints\u001b[m\u001b[m/\r\n",
      "-rw-r--r--   1 kevin  staff  14263 Mar 27 23:32 corey-tutorial.ipynb\r\n"
     ]
    }
   ],
   "source": [
    "%ls -la"
   ]
  },
  {
   "cell_type": "code",
   "execution_count": 28,
   "metadata": {},
   "outputs": [],
   "source": [
    "%matplotlib inline\n",
    "# required to show the plots in the notebook"
   ]
  },
  {
   "cell_type": "code",
   "execution_count": 30,
   "metadata": {},
   "outputs": [
    {
     "data": {
      "image/png": "[encoded data removed]",
      "text/plain": [
       "<matplotlib.figure.Figure at 0x1105cca90>"
      ]
     },
     "metadata": {},
     "output_type": "display_data"
    }
   ],
   "source": [
    "\"\"\"Simple demo of a scatter plot\"\"\"\n",
    "import numpy as np\n",
    "import matplotlib.pyplot as plt\n",
    "\n",
    "N = 50\n",
    "x = np.random.rand(N)\n",
    "y = np.random.rand(N)\n",
    "colors = np.random.rand(N)\n",
    "area = np.pi * (15 * np.random.rand(N)**2) #0 to 15 point radiuses\n",
    "\n",
    "plt.scatter(x, y, s=area, c=colors, alpha=0.5)\n",
    "plt.show()"
   ]
  },
  {
   "cell_type": "code",
   "execution_count": 36,
   "metadata": {},
   "outputs": [
    {
     "data": {
      "text/html": [
       "<iframe width=\"560\" height=\"315\" src=\"https://www.youtube.com/embed/HW29067qVWk\" frameborder=\"0\" allowfullscreen></iframe>"
      ],
      "text/plain": [
       "<IPython.core.display.HTML object>"
      ]
     },
     "metadata": {},
     "output_type": "display_data"
    }
   ],
   "source": [
    "%%HTML #render html\n",
    "<iframe width=\"560\" height=\"315\" src=\"https://www.youtube.com/embed/HW29067qVWk\" frameborder=\"0\" allowfullscreen></iframe>"
   ]
  },
  {
   "cell_type": "code",
   "execution_count": 37,
   "metadata": {},
   "outputs": [
    {
     "name": "stdout",
     "output_type": "stream",
     "text": [
      "63 µs ± 4.65 µs per loop (mean ± std. dev. of 7 runs, 10000 loops each)\n"
     ]
    }
   ],
   "source": [
    "%%timeit #time the code in this cell\n",
    "square_evens = [n*n for n in range(1000)]"
   ]
  },
  {
   "cell_type": "code",
   "execution_count": 39,
   "metadata": {},
   "outputs": [
    {
     "data": {
      "text/html": [
       "<div>\n",
       "<style scoped>\n",
       "    .dataframe tbody tr th:only-of-type {\n",
       "        vertical-align: middle;\n",
       "    }\n",
       "\n",
       "    .dataframe tbody tr th {\n",
       "        vertical-align: top;\n",
       "    }\n",
       "\n",
       "    .dataframe thead th {\n",
       "        text-align: right;\n",
       "    }\n",
       "</style>\n",
       "<table border=\"1\" class=\"dataframe\">\n",
       "  <thead>\n",
       "    <tr style=\"text-align: right;\">\n",
       "      <th></th>\n",
       "      <th>0</th>\n",
       "      <th>1</th>\n",
       "      <th>2</th>\n",
       "      <th>3</th>\n",
       "      <th>4</th>\n",
       "    </tr>\n",
       "  </thead>\n",
       "  <tbody>\n",
       "    <tr>\n",
       "      <th>0</th>\n",
       "      <td>0.851334</td>\n",
       "      <td>0.831461</td>\n",
       "      <td>0.367719</td>\n",
       "      <td>0.662365</td>\n",
       "      <td>0.092695</td>\n",
       "    </tr>\n",
       "    <tr>\n",
       "      <th>1</th>\n",
       "      <td>0.574058</td>\n",
       "      <td>0.899467</td>\n",
       "      <td>0.111378</td>\n",
       "      <td>0.654194</td>\n",
       "      <td>0.006661</td>\n",
       "    </tr>\n",
       "    <tr>\n",
       "      <th>2</th>\n",
       "      <td>0.607108</td>\n",
       "      <td>0.545968</td>\n",
       "      <td>0.815086</td>\n",
       "      <td>0.492284</td>\n",
       "      <td>0.461657</td>\n",
       "    </tr>\n",
       "    <tr>\n",
       "      <th>3</th>\n",
       "      <td>0.867000</td>\n",
       "      <td>0.028051</td>\n",
       "      <td>0.214716</td>\n",
       "      <td>0.588585</td>\n",
       "      <td>0.573486</td>\n",
       "    </tr>\n",
       "    <tr>\n",
       "      <th>4</th>\n",
       "      <td>0.061694</td>\n",
       "      <td>0.211270</td>\n",
       "      <td>0.466639</td>\n",
       "      <td>0.942500</td>\n",
       "      <td>0.133445</td>\n",
       "    </tr>\n",
       "  </tbody>\n",
       "</table>\n",
       "</div>"
      ],
      "text/plain": [
       "          0         1         2         3         4\n",
       "0  0.851334  0.831461  0.367719  0.662365  0.092695\n",
       "1  0.574058  0.899467  0.111378  0.654194  0.006661\n",
       "2  0.607108  0.545968  0.815086  0.492284  0.461657\n",
       "3  0.867000  0.028051  0.214716  0.588585  0.573486\n",
       "4  0.061694  0.211270  0.466639  0.942500  0.133445"
      ]
     },
     "execution_count": 39,
     "metadata": {},
     "output_type": "execute_result"
    }
   ],
   "source": [
    "# visualize pandas dataframes\n",
    "import pandas as pd\n",
    "import numpy as np\n",
    "\n",
    "df = pd.DataFrame(np.random.rand(10, 5))\n",
    "df.head()"
   ]
  }
 ],
 "metadata": {
  "kernelspec": {
   "display_name": "Python 3",
   "language": "python",
   "name": "python3"
  },
  "language_info": {
   "codemirror_mode": {
    "name": "ipython",
    "version": 3
   },
   "file_extension": ".py",
   "mimetype": "text/x-python",
   "name": "python",
   "nbconvert_exporter": "python",
   "pygments_lexer": "ipython3",
   "version": "3.6.4"
  }
 },
 "nbformat": 4,
 "nbformat_minor": 2
}
